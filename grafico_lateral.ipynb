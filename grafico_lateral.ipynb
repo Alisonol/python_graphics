{
 "cells": [
  {
   "cell_type": "code",
   "execution_count": null,
   "id": "c7975345",
   "metadata": {},
   "outputs": [],
   "source": [
    "from IPython.display import display, HTML  dataframe_names = [name for name, var in globals().items() if isinstance(var, pd.DataFrame)]\n",
    " print(dataframe_names)\n",
    " \n",
    " datasets_info = pd.DataFrame(\n",
    "     [\n",
    "         [\n",
    "             name,  \n",
    "             len(globals()[name]),  \n",
    "             len(globals()[name].columns),  \n",
    "             '\\n'.join(f\"{col}: {dtype.name}\" for col, dtype in globals()[name].dtypes.items())  \n",
    "         ]\n",
    "         for name in dataframe_names\n",
    "     ],\n",
    "     columns=[\"Nome\", \"Total Registros\", \"Total Colunas\", \"Tipos\"]\n",
    " )\n",
    " \n",
    " display(datasets_info.style.set_properties(subset=['Tipos'], **{'white-space': 'pre-wrap'}))"
   ]
  }
 ],
 "metadata": {
  "kernelspec": {
   "display_name": "Python 3 (ipykernel)",
   "language": "python",
   "name": "python3"
  },
  "language_info": {
   "codemirror_mode": {
    "name": "ipython",
    "version": 3
   },
   "file_extension": ".py",
   "mimetype": "text/x-python",
   "name": "python",
   "nbconvert_exporter": "python",
   "pygments_lexer": "ipython3",
   "version": "3.11.5"
  }
 },
 "nbformat": 4,
 "nbformat_minor": 5
}
